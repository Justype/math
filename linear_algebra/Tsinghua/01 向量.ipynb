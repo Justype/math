{
 "metadata": {
  "language_info": {
   "codemirror_mode": {
    "name": "ipython",
    "version": 3
   },
   "file_extension": ".py",
   "mimetype": "text/x-python",
   "name": "python",
   "nbconvert_exporter": "python",
   "pygments_lexer": "ipython3",
   "version": 3
  },
  "orig_nbformat": 4
 },
 "nbformat": 4,
 "nbformat_minor": 2,
 "cells": [
  {
   "source": [
    "# 向量基本运算\n",
    "\n",
    "## 引言\n",
    "\n",
    "线性代数的中心问题是求解线性方程组：\n",
    "\n",
    "例如给定一个线性方程组：\n",
    "\n",
    "$$\n",
    "\\left \\{\n",
    "\\begin{aligned}\n",
    "    x_1 + 2 x_x &= 4 \\\\\n",
    "    2x_1 - 3x_2 &= -2\n",
    "\\end{aligned}\n",
    "\\right.\n",
    "$$\n",
    "\n",
    "将系数分别放到一起，常数项放到一起，它可以表示为：\n",
    "\n",
    "$$\n",
    "x_1 \\begin{pmatrix} 1 \\\\ 2 \\end{pmatrix} +\n",
    "x_1 \\begin{pmatrix} 2 \\\\ -3 \\end{pmatrix} =\n",
    "\\begin{pmatrix} 4 \\\\ -2 \\end{pmatrix}\n",
    "$$\n",
    "\n",
    "此方程组可解 等价于 $\\begin{pmatrix} 4 \\\\ -2 \\end{pmatrix} 可以表示为 \\begin{pmatrix} 1 \\\\ 2 \\end{pmatrix} 和 \\begin{pmatrix} 2 \\\\ -3 \\end{pmatrix} 的线性组合$\n",
    "\n",
    "线性代数建立在向量的 数乘和加法"
   ],
   "cell_type": "markdown",
   "metadata": {}
  }
 ]
}